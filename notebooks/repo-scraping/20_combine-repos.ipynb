{
 "cells": [
  {
   "cell_type": "code",
   "execution_count": null,
   "metadata": {},
   "outputs": [
    {
     "name": "stderr",
     "output_type": "stream",
     "text": [
      "2024-11-05 17:01:06,409 - INFO - Processing repository 0 : dwavesystems/qbsolv...\n",
      "2024-11-05 17:01:07,296 - INFO - Processing repository 1 : KxSystems/kdb...\n"
     ]
    }
   ],
   "source": [
    "import logging\n",
    "import pandas as pd\n",
    "import os\n",
    "import shutil\n",
    "import time\n",
    "\n",
    "PARQUET_FILE_PATH = 'parquet/q-repo-list_combined.parquet'\n",
    "\n",
    "GITHUB_REPOS_DIR = 'github-repos'\n",
    "TARGET_DIR = 'training-set-q-language'\n",
    "\n",
    "SLEEP_SECONDS = 5\n",
    "\n",
    "logging.basicConfig(level=logging.INFO, format='%(asctime)s - %(levelname)s - %(message)s')\n",
    "\n",
    "df = pd.read_parquet(PARQUET_FILE_PATH)\n",
    "sorted_df = df.sort_values('stargazers_count', ascending=False).reset_index(drop=True)\n",
    "\n",
    "\n",
    "DESIRED_EXTENSIONS = ('.q', '.md')\n",
    "\n",
    "def copy_desired_files(org_name, repo_name):\n",
    "    \"\"\"\n",
    "    Copies files with desired extensions from a specified GitHub repository to a target directory.\n",
    "\n",
    "    This function traverses the directory structure of a given repository, filters out hidden files\n",
    "    and directories, and copies files with specified extensions to a target directory while preserving\n",
    "    the directory structure.\n",
    "\n",
    "    Args:\n",
    "        org_name (str): The name of the GitHub organization.\n",
    "        repo_name (str): The name of the GitHub repository.\n",
    "\n",
    "    Returns:\n",
    "        None\n",
    "    \"\"\"\n",
    "    repo_path = os.path.join(GITHUB_REPOS_DIR, org_name, repo_name)\n",
    "    for root, dirs, files in os.walk(repo_path):\n",
    "        # `root` is the current directory\n",
    "        # `dirs` holds the list of directories in the current directory\n",
    "        # `files` holds the list of files in the current directory\n",
    "\n",
    "        # Remove hidden directories\n",
    "        dirs[:] = [d for d in dirs if not d.startswith('.')]\n",
    "        # Remove hidden files\n",
    "        files = [f for f in files if not f.startswith('.')]\n",
    "\n",
    "        rel_path = os.path.relpath(root, GITHUB_REPOS_DIR)\n",
    "        os.makedirs(os.path.join(TARGET_DIR, rel_path), exist_ok=True)\n",
    "\n",
    "        for file in files:\n",
    "            if file.endswith(DESIRED_EXTENSIONS):\n",
    "                src_file = os.path.join(root, file)\n",
    "                dest_file = os.path.join(TARGET_DIR, rel_path, file)\n",
    "                shutil.copy(src_file, dest_file)\n",
    "\n",
    "\n",
    "# Loop through the DataFrame and download the repositories\n",
    "for index, row in sorted_df.iterrows():\n",
    "    # Keep org_name and repo_name separate since path separator may be different on different OS.\n",
    "    org_name = row['owner']['login']\n",
    "    repo_name = row['name']\n",
    "    logging.info(f\"Processing repository {index} : {org_name}/{repo_name}...\")\n",
    "    copy_desired_files(org_name, repo_name)\n",
    "\n"
   ]
  },
  {
   "cell_type": "code",
   "execution_count": null,
   "metadata": {},
   "outputs": [],
   "source": [
    "logging.info('Done')"
   ]
  },
  {
   "cell_type": "code",
   "execution_count": null,
   "metadata": {},
   "outputs": [],
   "source": []
  }
 ],
 "metadata": {
  "kernelspec": {
   "display_name": "almanac-2024-04",
   "language": "python",
   "name": "python3"
  },
  "language_info": {
   "codemirror_mode": {
    "name": "ipython",
    "version": 3
   },
   "file_extension": ".py",
   "mimetype": "text/x-python",
   "name": "python",
   "nbconvert_exporter": "python",
   "pygments_lexer": "ipython3",
   "version": "3.10.11"
  }
 },
 "nbformat": 4,
 "nbformat_minor": 2
}
