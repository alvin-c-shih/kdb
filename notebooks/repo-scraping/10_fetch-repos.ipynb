{
 "cells": [
  {
   "cell_type": "code",
   "execution_count": 1,
   "metadata": {},
   "outputs": [
    {
     "name": "stderr",
     "output_type": "stream",
     "text": [
      "2024-11-07 16:19:49,408 - INFO - len(df)=44\n"
     ]
    }
   ],
   "source": [
    "import logging\n",
    "import pandas as pd\n",
    "import os\n",
    "\n",
    "CLONE_SLEEP_SECONDS = 150\n",
    "\n",
    "GITHUB_REPOS_DIR = 'github-repos'\n",
    "PARQUET_DIR = \"parquet\"\n",
    "\n",
    "logging.basicConfig(level=logging.INFO, format='%(asctime)s - %(levelname)s - %(message)s')\n",
    "\n",
    "df = pd.read_parquet(os.path.join(PARQUET_DIR, 'q-repo-list_q-kdb.parquet'))\n",
    "logging.info(f\"{len(df)=}\")"
   ]
  },
  {
   "cell_type": "code",
   "execution_count": 2,
   "metadata": {},
   "outputs": [
    {
     "data": {
      "text/plain": [
       "license\n",
       "{'key': 'apache-2.0', 'name': 'Apache License 2.0', 'node_id': 'MDc6TGljZW5zZTI=', 'spdx_id': 'Apache-2.0', 'url': 'https://api.github.com/licenses/apache-2.0'}                             21\n",
       "{'key': 'mit', 'name': 'MIT License', 'node_id': 'MDc6TGljZW5zZTEz', 'spdx_id': 'MIT', 'url': 'https://api.github.com/licenses/mit'}                                                         18\n",
       "{'key': 'cc-by-4.0', 'name': 'Creative Commons Attribution 4.0 International', 'node_id': 'MDc6TGljZW5zZTI1', 'spdx_id': 'CC-BY-4.0', 'url': 'https://api.github.com/licenses/cc-by-4.0'}     3\n",
       "{'key': 'cc0-1.0', 'name': 'Creative Commons Zero v1.0 Universal', 'node_id': 'MDc6TGljZW5zZTY=', 'spdx_id': 'CC0-1.0', 'url': 'https://api.github.com/licenses/cc0-1.0'}                     2\n",
       "Name: count, dtype: int64"
      ]
     },
     "execution_count": 2,
     "metadata": {},
     "output_type": "execute_result"
    }
   ],
   "source": [
    "df['license'].value_counts()"
   ]
  },
  {
   "cell_type": "code",
   "execution_count": 3,
   "metadata": {},
   "outputs": [
    {
     "name": "stderr",
     "output_type": "stream",
     "text": [
      "2024-11-07 16:19:59,347 - INFO - Downloading repository KxSystems/kdb into github-repos...\n",
      "Cloning into 'github-repos/KxSystems/kdb'...\n",
      "Updating files: 100% (229/229), done.\n",
      "2024-11-07 16:23:46,284 - INFO - Downloading repository KxSystems/pyq into github-repos...\n",
      "Cloning into 'github-repos/KxSystems/pyq'...\n",
      "Updating files: 100% (83/83), done.\n",
      "2024-11-07 16:26:27,396 - INFO - Downloading repository psaris/qtips into github-repos...\n",
      "Cloning into 'github-repos/psaris/qtips'...\n",
      "2024-11-07 16:29:04,473 - INFO - Downloading repository psaris/funq into github-repos...\n",
      "Cloning into 'github-repos/psaris/funq'...\n",
      "Updating files: 100% (88/88), done.\n",
      "2024-11-07 16:31:45,281 - INFO - Downloading repository qbists/studyq into github-repos...\n",
      "Cloning into 'github-repos/qbists/studyq'...\n",
      "Updating files: 100% (207/207), done.\n",
      "2024-11-07 16:34:36,525 - INFO - Downloading repository KxSystems/jupyterq into github-repos...\n",
      "Cloning into 'github-repos/KxSystems/jupyterq'...\n",
      "Updating files: 100% (98/98), done.\n",
      "2024-11-07 16:37:18,492 - INFO - Downloading repository KxSystems/embedPy into github-repos...\n",
      "Cloning into 'github-repos/KxSystems/embedPy'...\n",
      "Updating files: 100% (56/56), done.\n",
      "2024-11-07 16:39:57,869 - INFO - Downloading repository KxSystems/docs into github-repos...\n",
      "Cloning into 'github-repos/KxSystems/docs'...\n",
      "Updating files: 100% (1011/1011), done.\n",
      "2024-11-07 16:44:16,954 - INFO - Downloading repository KxSystems/ml into github-repos...\n",
      "Cloning into 'github-repos/KxSystems/ml'...\n",
      "Updating files: 100% (434/434), done.\n",
      "2024-11-07 16:48:56,865 - INFO - Downloading repository KxSystems/javakdb into github-repos...\n",
      "Cloning into 'github-repos/KxSystems/javakdb'...\n",
      "Updating files: 100% (27/27), done.\n",
      "2024-11-07 16:51:35,521 - INFO - Downloading repository KxSystems/kafka into github-repos...\n",
      "Cloning into 'github-repos/KxSystems/kafka'...\n",
      "2024-11-07 16:54:13,346 - INFO - Downloading repository KxSystems/rkdb into github-repos...\n",
      "Cloning into 'github-repos/KxSystems/rkdb'...\n",
      "Updating files: 100% (36/36), done.\n",
      "2024-11-07 16:56:51,787 - INFO - Downloading repository jlas/ml.q into github-repos...\n",
      "Cloning into 'github-repos/jlas/ml.q'...\n",
      "Updating files: 100% (23/23), done.\n",
      "2024-11-07 16:59:29,091 - INFO - Downloading repository psaris/q4q into github-repos...\n",
      "Cloning into 'github-repos/psaris/q4q'...\n",
      "2024-11-07 17:02:04,425 - INFO - Downloading repository KxSystems/ffi into github-repos...\n",
      "Cloning into 'github-repos/KxSystems/ffi'...\n",
      "Updating files: 100% (35/35), done.\n",
      "2024-11-07 17:04:43,227 - INFO - Downloading repository KxSystems/arrowkdb into github-repos...\n",
      "Cloning into 'github-repos/KxSystems/arrowkdb'...\n",
      "Updating files: 100% (65/65), done.\n",
      "2024-11-07 17:07:23,668 - INFO - Downloading repository KxSystems/automl into github-repos...\n",
      "Cloning into 'github-repos/KxSystems/automl'...\n",
      "Updating files: 100% (173/173), done.\n",
      "2024-11-07 17:10:13,796 - INFO - Downloading repository KxSystems/nlp into github-repos...\n",
      "Cloning into 'github-repos/KxSystems/nlp'...\n",
      "Updating files: 100% (35/35), done.\n",
      "2024-11-07 17:12:52,575 - INFO - Downloading repository KxSystems/prometheus-kdb-exporter into github-repos...\n",
      "Cloning into 'github-repos/KxSystems/prometheus-kdb-exporter'...\n",
      "Updating files: 100% (25/25), done.\n",
      "2024-11-07 17:15:38,248 - INFO - Downloading repository inv2004/kdb_nim into github-repos...\n",
      "Cloning into 'github-repos/inv2004/kdb_nim'...\n",
      "Updating files: 100% (40/40), done.\n",
      "2024-11-07 17:18:17,427 - INFO - Downloading repository KxSystems/hdf5 into github-repos...\n",
      "Cloning into 'github-repos/KxSystems/hdf5'...\n",
      "Updating files: 100% (47/47), done.\n",
      "2024-11-07 17:20:56,780 - INFO - Downloading repository kdbcn/kdb into github-repos...\n",
      "Cloning into 'github-repos/kdbcn/kdb'...\n",
      "Updating files: 100% (36/36), done.\n",
      "2024-11-07 17:23:39,311 - INFO - Downloading repository KxSystems/embedR into github-repos...\n",
      "Cloning into 'github-repos/KxSystems/embedR'...\n",
      "Updating files: 100% (22/22), done.\n",
      "2024-11-07 17:26:17,260 - INFO - Downloading repository KxSystems/solace into github-repos...\n",
      "Cloning into 'github-repos/KxSystems/solace'...\n",
      "Updating files: 100% (37/37), done.\n",
      "2024-11-07 17:30:12,722 - INFO - Downloading repository aa1024/strQ into github-repos...\n",
      "Cloning into 'github-repos/aa1024/strQ'...\n",
      "2024-11-07 17:32:49,501 - INFO - Downloading repository KxSystems/mqtt into github-repos...\n",
      "Cloning into 'github-repos/KxSystems/mqtt'...\n",
      "Updating files: 100% (26/26), done.\n",
      "2024-11-07 17:35:26,940 - INFO - Downloading repository KxSystems/man into github-repos...\n",
      "Cloning into 'github-repos/KxSystems/man'...\n",
      "2024-11-07 17:38:03,146 - INFO - Downloading repository skeptiqos/qsl into github-repos...\n",
      "Cloning into 'github-repos/skeptiqos/qsl'...\n",
      "2024-11-07 17:40:39,943 - INFO - Downloading repository psaris/mm into github-repos...\n",
      "Cloning into 'github-repos/psaris/mm'...\n",
      "2024-11-07 17:43:16,158 - INFO - Downloading repository KxSystems/ldap into github-repos...\n",
      "Cloning into 'github-repos/KxSystems/ldap'...\n",
      "Updating files: 100% (25/25), done.\n",
      "2024-11-07 17:45:54,042 - INFO - Downloading repository manifoldfinance/qAbiEncode into github-repos...\n",
      "Cloning into 'github-repos/manifoldfinance/qAbiEncode'...\n",
      "2024-11-07 17:48:29,567 - INFO - Downloading repository jshinonome/vim-q-syntax into github-repos...\n",
      "Cloning into 'github-repos/jshinonome/vim-q-syntax'...\n",
      "2024-11-07 17:51:04,970 - INFO - Downloading repository mkmik/awesome-k into github-repos...\n",
      "Cloning into 'github-repos/mkmik/awesome-k'...\n",
      "2024-11-07 17:53:40,256 - INFO - Downloading repository dstrachan/qlib into github-repos...\n",
      "Cloning into 'github-repos/dstrachan/qlib'...\n",
      "2024-11-07 17:56:15,959 - INFO - Downloading repository zakoud/qfix into github-repos...\n",
      "Cloning into 'github-repos/zakoud/qfix'...\n",
      "2024-11-07 17:58:51,316 - INFO - Downloading repository 5jt/klondike into github-repos...\n",
      "Cloning into 'github-repos/5jt/klondike'...\n",
      "2024-11-07 18:01:26,314 - INFO - Downloading repository KxSystems/wiki into github-repos...\n",
      "Cloning into 'github-repos/KxSystems/wiki'...\n",
      "2024-11-07 18:05:25,184 - INFO - Downloading repository davidcrossey/dash-direct-perms into github-repos...\n",
      "Cloning into 'github-repos/davidcrossey/dash-direct-perms'...\n",
      "2024-11-07 18:08:01,026 - INFO - Downloading repository KxSystems/insights-assemblies into github-repos...\n",
      "Cloning into 'github-repos/KxSystems/insights-assemblies'...\n",
      "2024-11-07 18:10:37,321 - INFO - Downloading repository ThomasSmyth/setlist.fm-attended-map into github-repos...\n",
      "Cloning into 'github-repos/ThomasSmyth/setlist.fm-attended-map'...\n",
      "Updating files: 100% (33/33), done.\n",
      "2024-11-07 18:13:15,386 - INFO - Downloading repository Advent-of-q/2021 into github-repos...\n",
      "Cloning into 'github-repos/Advent-of-q/2021'...\n",
      "Updating files: 100% (62/62), done.\n",
      "2024-11-07 18:15:54,033 - INFO - Downloading repository gerrymanoim/q-docset into github-repos...\n",
      "Cloning into 'github-repos/gerrymanoim/q-docset'...\n",
      "2024-11-07 18:18:29,532 - INFO - Downloading repository honus85/tickerplantdemo into github-repos...\n",
      "Cloning into 'github-repos/honus85/tickerplantdemo'...\n",
      "2024-11-07 18:21:04,927 - INFO - Downloading repository lcsrodriguez/qkucoin into github-repos...\n",
      "Cloning into 'github-repos/lcsrodriguez/qkucoin'...\n"
     ]
    }
   ],
   "source": [
    "import os\n",
    "import subprocess\n",
    "import time\n",
    "\n",
    "# Function to check if a repository is already downloaded\n",
    "def check_and_download_repo(org_name, repo_name):\n",
    "    \"\"\"\n",
    "    Check if a GitHub repository exists locally, and if not, download it.\n",
    "\n",
    "    Args:\n",
    "        org_name (str): The name of the GitHub organization or user.\n",
    "        repo_name (str): The name of the repository.\n",
    "\n",
    "    Returns:\n",
    "        None\n",
    "\n",
    "    Side Effects:\n",
    "        - Creates directories if they do not exist.\n",
    "        - Clones the repository from GitHub if it does not exist locally.\n",
    "        - Logs information and errors during the process.\n",
    "\n",
    "    Raises:\n",
    "        subprocess.CalledProcessError: If the git clone command fails.\n",
    "    \"\"\"\n",
    "    full_name = f'{org_name}/{repo_name}'\n",
    "    repo_url = f'https://github.com/{full_name}.git'\n",
    "    org_path = os.path.join(GITHUB_REPOS_DIR, org_name)\n",
    "    repo_path = os.path.join(org_path, repo_name)\n",
    "    if not os.path.exists(repo_path):\n",
    "        os.makedirs(org_path, exist_ok=True)\n",
    "        logging.info(f\"Downloading repository {full_name} into {GITHUB_REPOS_DIR}...\")\n",
    "        try:\n",
    "            subprocess.run(['git', 'clone', repo_url, repo_path], check=True)\n",
    "        except subprocess.CalledProcessError as e:\n",
    "            logging.error(f\"Failed to clone repository {full_name} from {repo_url}. Error: {e}\")\n",
    "\n",
    "        time.sleep(CLONE_SLEEP_SECONDS)\n",
    "\n",
    "    else:\n",
    "        logging.info(f\"Repository {repo_name} already exists in {org_path}.\")\n",
    "\n",
    "# Loop through the DataFrame and download the repositories\n",
    "for index, row in df.head(232).iterrows():\n",
    "    # Keep org_name and repo_name separate since path separator may be different on different OS.\n",
    "    org_name = row['owner']['login']\n",
    "    repo_name = row['name']\n",
    "    stars = row['stargazers_count']\n",
    "    check_and_download_repo(org_name, repo_name)\n"
   ]
  },
  {
   "cell_type": "code",
   "execution_count": 4,
   "metadata": {},
   "outputs": [
    {
     "name": "stderr",
     "output_type": "stream",
     "text": [
      "2024-11-07 18:23:40,204 - INFO - Done\n"
     ]
    }
   ],
   "source": [
    "logging.info('Done')"
   ]
  },
  {
   "cell_type": "code",
   "execution_count": null,
   "metadata": {},
   "outputs": [],
   "source": []
  }
 ],
 "metadata": {
  "jupytext": {
   "formats": "ipynb,py"
  },
  "kernelspec": {
   "display_name": "almanac-2024-04",
   "language": "python",
   "name": "python3"
  },
  "language_info": {
   "codemirror_mode": {
    "name": "ipython",
    "version": 3
   },
   "file_extension": ".py",
   "mimetype": "text/x-python",
   "name": "python",
   "nbconvert_exporter": "python",
   "pygments_lexer": "ipython3",
   "version": "3.10.11"
  }
 },
 "nbformat": 4,
 "nbformat_minor": 2
}
